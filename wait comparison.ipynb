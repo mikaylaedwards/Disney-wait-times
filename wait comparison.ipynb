{
 "cells": [
  {
   "cell_type": "code",
   "execution_count": 43,
   "metadata": {},
   "outputs": [],
   "source": [
    "import numpy as np\n",
    "import pandas as pd\n",
    "import matplotlib.pyplot as plt\n",
    "import seaborn as sns\n",
    "from functools import reduce\n",
    "from sklearn.linear_model import Ridge\n",
    "from sklearn.model_selection import cross_val_score\n",
    "from sklearn.model_selection import train_test_split\n",
    "from sklearn.metrics import r2_score"
   ]
  },
  {
   "cell_type": "markdown",
   "metadata": {},
   "source": [
    "For each of the six rides, we have a separate csv file with wait time data. We need to merge & clean this data for comparison. "
   ]
  },
  {
   "cell_type": "code",
   "execution_count": 44,
   "metadata": {},
   "outputs": [],
   "source": [
    "seven=pd.read_csv('7_dwarfs_train.csv', delimiter = ',');\n",
    "toy=pd.read_csv('toy_story_mania.csv', delimiter = ',');\n",
    "rock=pd.read_csv('rock_n_rollercoaster.csv', delimiter = ',');\n",
    "splash=pd.read_csv('splash_mountain.csv', delimiter = ',');\n",
    "soarin=pd.read_csv('soarin.csv', delimiter = ',');\n",
    "space=pd.read_csv('spaceship_earth.csv', delimiter = ',');\n",
    "\n",
    "##rename columns so it's clear which time corresponds to which ride when merge data frames\n",
    "seven=seven.rename(index=str, columns={\"SPOSTMIN\":\"seven_dwarfs\"})\n",
    "toy=toy.rename(index=str, columns={\"SPOSTMIN\":\"toy_story_mania\"})\n",
    "rock=rock.rename(index=str, columns={\"SPOSTMIN\":\"rockin_rollercoaster\"})\n",
    "splash=splash.rename(index=str, columns={\"SPOSTMIN\":\"splash_mountain\"})\n",
    "space=space.rename(index=str, columns={\"SPOSTMIN\":\"space_earth\"})\n",
    "soarin=soarin.rename(index=str, columns={\"SPOSTMIN\":\"soarin\"})"
   ]
  },
  {
   "cell_type": "code",
   "execution_count": 45,
   "metadata": {},
   "outputs": [],
   "source": [
    "##removing redundant columns\n",
    "dframes=[toy,rock,seven,splash,space,soarin];\n",
    "for df in dframes:\n",
    "    df.drop(['SACTMIN','date'],inplace=True, axis=1)"
   ]
  },
  {
   "cell_type": "code",
   "execution_count": null,
   "metadata": {},
   "outputs": [],
   "source": []
  },
  {
   "cell_type": "code",
   "execution_count": 46,
   "metadata": {},
   "outputs": [],
   "source": [
    "##merge all 4 data frames (rides)\n",
    "\n",
    "df= reduce(lambda  left,right: pd.merge(left,right,on=['datetime'],\n",
    "                                            how='outer'), dframes)"
   ]
  },
  {
   "cell_type": "code",
   "execution_count": 47,
   "metadata": {},
   "outputs": [
    {
     "name": "stdout",
     "output_type": "stream",
     "text": [
      "<class 'pandas.core.frame.DataFrame'>\n",
      "Int64Index: 16368606 entries, 0 to 16368605\n",
      "Data columns (total 7 columns):\n",
      "datetime                object\n",
      "toy_story_mania         float64\n",
      "rockin_rollercoaster    float64\n",
      "seven_dwarfs            float64\n",
      "splash_mountain         float64\n",
      "space_earth             float64\n",
      "soarin                  float64\n",
      "dtypes: float64(6), object(1)\n",
      "memory usage: 999.1+ MB\n"
     ]
    }
   ],
   "source": [
    "df.info()"
   ]
  },
  {
   "cell_type": "code",
   "execution_count": 48,
   "metadata": {},
   "outputs": [],
   "source": [
    "##set datetime index\n",
    "df['datetime'] = pd.to_datetime(df['datetime'])\n",
    "df.index = df['datetime']\n",
    "\n",
    "del df['datetime']\n"
   ]
  },
  {
   "cell_type": "code",
   "execution_count": 49,
   "metadata": {},
   "outputs": [
    {
     "data": {
      "text/html": [
       "<div>\n",
       "<style scoped>\n",
       "    .dataframe tbody tr th:only-of-type {\n",
       "        vertical-align: middle;\n",
       "    }\n",
       "\n",
       "    .dataframe tbody tr th {\n",
       "        vertical-align: top;\n",
       "    }\n",
       "\n",
       "    .dataframe thead th {\n",
       "        text-align: right;\n",
       "    }\n",
       "</style>\n",
       "<table border=\"1\" class=\"dataframe\">\n",
       "  <thead>\n",
       "    <tr style=\"text-align: right;\">\n",
       "      <th></th>\n",
       "      <th>toy_story_mania</th>\n",
       "      <th>rockin_rollercoaster</th>\n",
       "      <th>seven_dwarfs</th>\n",
       "      <th>splash_mountain</th>\n",
       "      <th>space_earth</th>\n",
       "      <th>soarin</th>\n",
       "    </tr>\n",
       "  </thead>\n",
       "  <tbody>\n",
       "    <tr>\n",
       "      <th>count</th>\n",
       "      <td>1.587977e+07</td>\n",
       "      <td>1.587010e+07</td>\n",
       "      <td>1.573309e+07</td>\n",
       "      <td>1.544690e+07</td>\n",
       "      <td>1.588189e+07</td>\n",
       "      <td>1.588324e+07</td>\n",
       "    </tr>\n",
       "    <tr>\n",
       "      <th>mean</th>\n",
       "      <td>7.659975e+01</td>\n",
       "      <td>5.529635e+01</td>\n",
       "      <td>9.136243e+01</td>\n",
       "      <td>4.666478e+01</td>\n",
       "      <td>9.056647e+00</td>\n",
       "      <td>5.900409e+01</td>\n",
       "    </tr>\n",
       "    <tr>\n",
       "      <th>std</th>\n",
       "      <td>3.015983e+01</td>\n",
       "      <td>3.041879e+01</td>\n",
       "      <td>3.816940e+01</td>\n",
       "      <td>7.716193e+01</td>\n",
       "      <td>2.448780e+01</td>\n",
       "      <td>2.282144e+01</td>\n",
       "    </tr>\n",
       "    <tr>\n",
       "      <th>min</th>\n",
       "      <td>-9.990000e+02</td>\n",
       "      <td>-9.990000e+02</td>\n",
       "      <td>-9.990000e+02</td>\n",
       "      <td>-9.990000e+02</td>\n",
       "      <td>-9.990000e+02</td>\n",
       "      <td>-9.990000e+02</td>\n",
       "    </tr>\n",
       "    <tr>\n",
       "      <th>25%</th>\n",
       "      <td>6.500000e+01</td>\n",
       "      <td>5.000000e+01</td>\n",
       "      <td>9.000000e+01</td>\n",
       "      <td>3.500000e+01</td>\n",
       "      <td>5.000000e+00</td>\n",
       "      <td>4.500000e+01</td>\n",
       "    </tr>\n",
       "    <tr>\n",
       "      <th>50%</th>\n",
       "      <td>8.500000e+01</td>\n",
       "      <td>6.000000e+01</td>\n",
       "      <td>9.000000e+01</td>\n",
       "      <td>5.000000e+01</td>\n",
       "      <td>5.000000e+00</td>\n",
       "      <td>6.000000e+01</td>\n",
       "    </tr>\n",
       "    <tr>\n",
       "      <th>75%</th>\n",
       "      <td>8.500000e+01</td>\n",
       "      <td>6.000000e+01</td>\n",
       "      <td>1.050000e+02</td>\n",
       "      <td>6.000000e+01</td>\n",
       "      <td>1.000000e+01</td>\n",
       "      <td>7.000000e+01</td>\n",
       "    </tr>\n",
       "    <tr>\n",
       "      <th>max</th>\n",
       "      <td>3.000000e+02</td>\n",
       "      <td>2.500000e+02</td>\n",
       "      <td>2.800000e+02</td>\n",
       "      <td>3.000000e+02</td>\n",
       "      <td>2.100000e+02</td>\n",
       "      <td>2.800000e+02</td>\n",
       "    </tr>\n",
       "  </tbody>\n",
       "</table>\n",
       "</div>"
      ],
      "text/plain": [
       "       toy_story_mania  rockin_rollercoaster  seven_dwarfs  splash_mountain  \\\n",
       "count     1.587977e+07          1.587010e+07  1.573309e+07     1.544690e+07   \n",
       "mean      7.659975e+01          5.529635e+01  9.136243e+01     4.666478e+01   \n",
       "std       3.015983e+01          3.041879e+01  3.816940e+01     7.716193e+01   \n",
       "min      -9.990000e+02         -9.990000e+02 -9.990000e+02    -9.990000e+02   \n",
       "25%       6.500000e+01          5.000000e+01  9.000000e+01     3.500000e+01   \n",
       "50%       8.500000e+01          6.000000e+01  9.000000e+01     5.000000e+01   \n",
       "75%       8.500000e+01          6.000000e+01  1.050000e+02     6.000000e+01   \n",
       "max       3.000000e+02          2.500000e+02  2.800000e+02     3.000000e+02   \n",
       "\n",
       "        space_earth        soarin  \n",
       "count  1.588189e+07  1.588324e+07  \n",
       "mean   9.056647e+00  5.900409e+01  \n",
       "std    2.448780e+01  2.282144e+01  \n",
       "min   -9.990000e+02 -9.990000e+02  \n",
       "25%    5.000000e+00  4.500000e+01  \n",
       "50%    5.000000e+00  6.000000e+01  \n",
       "75%    1.000000e+01  7.000000e+01  \n",
       "max    2.100000e+02  2.800000e+02  "
      ]
     },
     "execution_count": 49,
     "metadata": {},
     "output_type": "execute_result"
    }
   ],
   "source": [
    "df.describe()"
   ]
  },
  {
   "cell_type": "code",
   "execution_count": 50,
   "metadata": {},
   "outputs": [],
   "source": [
    "##some obvious outliers & corrupted data entry. The table above shows minimum wait times <0. The wait time should never be <0\n",
    "df[(df<=0)] = np.nan"
   ]
  },
  {
   "cell_type": "code",
   "execution_count": 51,
   "metadata": {},
   "outputs": [],
   "source": [
    "##remove duplicated entries\n",
    "df = df[~df.index.duplicated(keep='first')]\n"
   ]
  },
  {
   "cell_type": "code",
   "execution_count": 52,
   "metadata": {},
   "outputs": [],
   "source": [
    "##remove rows with all NA (timestamps at which no ride wait time was recorded)\n",
    "df=df.dropna(how='all')\n",
    "df = df.sort_index()\n"
   ]
  },
  {
   "cell_type": "markdown",
   "metadata": {},
   "source": [
    "Set the beginning date for our analysis (when consistent recording of wait time for seven dwarfs began)"
   ]
  },
  {
   "cell_type": "code",
   "execution_count": 53,
   "metadata": {},
   "outputs": [],
   "source": [
    "df=df['2014-05-23':]"
   ]
  },
  {
   "cell_type": "markdown",
   "metadata": {},
   "source": [
    "Set the beginning time for our analysis to be the latest \"first valid index\" (i.e. the latest time one of the rides started recording on that date)"
   ]
  },
  {
   "cell_type": "code",
   "execution_count": 54,
   "metadata": {},
   "outputs": [
    {
     "name": "stdout",
     "output_type": "stream",
     "text": [
      "First valid index for column toy_story_mania is at 2014-05-23 07:50:00\n",
      "First valid index for column rockin_rollercoaster is at 2014-05-23 08:18:00\n",
      "First valid index for column seven_dwarfs is at 2014-05-23 06:33:00\n",
      "First valid index for column splash_mountain is at 2014-05-23 07:03:00\n",
      "First valid index for column space_earth is at 2014-05-23 09:14:00\n",
      "First valid index for column soarin is at 2014-05-23 09:14:00\n"
     ]
    }
   ],
   "source": [
    "for col_name, data in df.items(): \n",
    "    print(\"First valid index for column {} is at {}\".format(col_name, data.first_valid_index()))"
   ]
  },
  {
   "cell_type": "code",
   "execution_count": 55,
   "metadata": {},
   "outputs": [
    {
     "data": {
      "text/html": [
       "<div>\n",
       "<style scoped>\n",
       "    .dataframe tbody tr th:only-of-type {\n",
       "        vertical-align: middle;\n",
       "    }\n",
       "\n",
       "    .dataframe tbody tr th {\n",
       "        vertical-align: top;\n",
       "    }\n",
       "\n",
       "    .dataframe thead th {\n",
       "        text-align: right;\n",
       "    }\n",
       "</style>\n",
       "<table border=\"1\" class=\"dataframe\">\n",
       "  <thead>\n",
       "    <tr style=\"text-align: right;\">\n",
       "      <th></th>\n",
       "      <th>toy_story_mania</th>\n",
       "      <th>rockin_rollercoaster</th>\n",
       "      <th>seven_dwarfs</th>\n",
       "      <th>splash_mountain</th>\n",
       "      <th>space_earth</th>\n",
       "      <th>soarin</th>\n",
       "    </tr>\n",
       "    <tr>\n",
       "      <th>datetime</th>\n",
       "      <th></th>\n",
       "      <th></th>\n",
       "      <th></th>\n",
       "      <th></th>\n",
       "      <th></th>\n",
       "      <th></th>\n",
       "    </tr>\n",
       "  </thead>\n",
       "  <tbody>\n",
       "    <tr>\n",
       "      <th>2014-05-23 09:14:00</th>\n",
       "      <td>50.0</td>\n",
       "      <td>30.0</td>\n",
       "      <td>NaN</td>\n",
       "      <td>10.0</td>\n",
       "      <td>5.0</td>\n",
       "      <td>45.0</td>\n",
       "    </tr>\n",
       "    <tr>\n",
       "      <th>2014-05-23 09:15:00</th>\n",
       "      <td>NaN</td>\n",
       "      <td>30.0</td>\n",
       "      <td>NaN</td>\n",
       "      <td>NaN</td>\n",
       "      <td>NaN</td>\n",
       "      <td>45.0</td>\n",
       "    </tr>\n",
       "    <tr>\n",
       "      <th>2014-05-23 09:27:00</th>\n",
       "      <td>NaN</td>\n",
       "      <td>NaN</td>\n",
       "      <td>60.0</td>\n",
       "      <td>NaN</td>\n",
       "      <td>NaN</td>\n",
       "      <td>NaN</td>\n",
       "    </tr>\n",
       "    <tr>\n",
       "      <th>2014-05-23 09:29:00</th>\n",
       "      <td>NaN</td>\n",
       "      <td>NaN</td>\n",
       "      <td>55.0</td>\n",
       "      <td>NaN</td>\n",
       "      <td>NaN</td>\n",
       "      <td>NaN</td>\n",
       "    </tr>\n",
       "    <tr>\n",
       "      <th>2014-05-23 09:37:00</th>\n",
       "      <td>NaN</td>\n",
       "      <td>30.0</td>\n",
       "      <td>NaN</td>\n",
       "      <td>NaN</td>\n",
       "      <td>NaN</td>\n",
       "      <td>NaN</td>\n",
       "    </tr>\n",
       "  </tbody>\n",
       "</table>\n",
       "</div>"
      ],
      "text/plain": [
       "                     toy_story_mania  rockin_rollercoaster  seven_dwarfs  \\\n",
       "datetime                                                                   \n",
       "2014-05-23 09:14:00             50.0                  30.0           NaN   \n",
       "2014-05-23 09:15:00              NaN                  30.0           NaN   \n",
       "2014-05-23 09:27:00              NaN                   NaN          60.0   \n",
       "2014-05-23 09:29:00              NaN                   NaN          55.0   \n",
       "2014-05-23 09:37:00              NaN                  30.0           NaN   \n",
       "\n",
       "                     splash_mountain  space_earth  soarin  \n",
       "datetime                                                   \n",
       "2014-05-23 09:14:00             10.0          5.0    45.0  \n",
       "2014-05-23 09:15:00              NaN          NaN    45.0  \n",
       "2014-05-23 09:27:00              NaN          NaN     NaN  \n",
       "2014-05-23 09:29:00              NaN          NaN     NaN  \n",
       "2014-05-23 09:37:00              NaN          NaN     NaN  "
      ]
     },
     "execution_count": 55,
     "metadata": {},
     "output_type": "execute_result"
    }
   ],
   "source": [
    "df=df['2014-05-23 09:14:00':]\n",
    "df.head()"
   ]
  },
  {
   "cell_type": "markdown",
   "metadata": {},
   "source": [
    "Seven dwarfs is NaN @ 9:14, so we will set this value to 60 (the same as the first recorded value on this day). (Other NA values will be interpolated in later steps.)"
   ]
  },
  {
   "cell_type": "code",
   "execution_count": 56,
   "metadata": {},
   "outputs": [
    {
     "data": {
      "text/html": [
       "<div>\n",
       "<style scoped>\n",
       "    .dataframe tbody tr th:only-of-type {\n",
       "        vertical-align: middle;\n",
       "    }\n",
       "\n",
       "    .dataframe tbody tr th {\n",
       "        vertical-align: top;\n",
       "    }\n",
       "\n",
       "    .dataframe thead th {\n",
       "        text-align: right;\n",
       "    }\n",
       "</style>\n",
       "<table border=\"1\" class=\"dataframe\">\n",
       "  <thead>\n",
       "    <tr style=\"text-align: right;\">\n",
       "      <th></th>\n",
       "      <th>toy_story_mania</th>\n",
       "      <th>rockin_rollercoaster</th>\n",
       "      <th>seven_dwarfs</th>\n",
       "      <th>splash_mountain</th>\n",
       "      <th>space_earth</th>\n",
       "      <th>soarin</th>\n",
       "    </tr>\n",
       "    <tr>\n",
       "      <th>datetime</th>\n",
       "      <th></th>\n",
       "      <th></th>\n",
       "      <th></th>\n",
       "      <th></th>\n",
       "      <th></th>\n",
       "      <th></th>\n",
       "    </tr>\n",
       "  </thead>\n",
       "  <tbody>\n",
       "    <tr>\n",
       "      <th>2014-05-23 09:14:00</th>\n",
       "      <td>50.0</td>\n",
       "      <td>30.0</td>\n",
       "      <td>60.0</td>\n",
       "      <td>10.0</td>\n",
       "      <td>5.0</td>\n",
       "      <td>45.0</td>\n",
       "    </tr>\n",
       "    <tr>\n",
       "      <th>2014-05-23 09:15:00</th>\n",
       "      <td>NaN</td>\n",
       "      <td>30.0</td>\n",
       "      <td>NaN</td>\n",
       "      <td>NaN</td>\n",
       "      <td>NaN</td>\n",
       "      <td>45.0</td>\n",
       "    </tr>\n",
       "    <tr>\n",
       "      <th>2014-05-23 09:27:00</th>\n",
       "      <td>NaN</td>\n",
       "      <td>NaN</td>\n",
       "      <td>60.0</td>\n",
       "      <td>NaN</td>\n",
       "      <td>NaN</td>\n",
       "      <td>NaN</td>\n",
       "    </tr>\n",
       "    <tr>\n",
       "      <th>2014-05-23 09:29:00</th>\n",
       "      <td>NaN</td>\n",
       "      <td>NaN</td>\n",
       "      <td>55.0</td>\n",
       "      <td>NaN</td>\n",
       "      <td>NaN</td>\n",
       "      <td>NaN</td>\n",
       "    </tr>\n",
       "    <tr>\n",
       "      <th>2014-05-23 09:37:00</th>\n",
       "      <td>NaN</td>\n",
       "      <td>30.0</td>\n",
       "      <td>NaN</td>\n",
       "      <td>NaN</td>\n",
       "      <td>NaN</td>\n",
       "      <td>NaN</td>\n",
       "    </tr>\n",
       "  </tbody>\n",
       "</table>\n",
       "</div>"
      ],
      "text/plain": [
       "                     toy_story_mania  rockin_rollercoaster  seven_dwarfs  \\\n",
       "datetime                                                                   \n",
       "2014-05-23 09:14:00             50.0                  30.0          60.0   \n",
       "2014-05-23 09:15:00              NaN                  30.0           NaN   \n",
       "2014-05-23 09:27:00              NaN                   NaN          60.0   \n",
       "2014-05-23 09:29:00              NaN                   NaN          55.0   \n",
       "2014-05-23 09:37:00              NaN                  30.0           NaN   \n",
       "\n",
       "                     splash_mountain  space_earth  soarin  \n",
       "datetime                                                   \n",
       "2014-05-23 09:14:00             10.0          5.0    45.0  \n",
       "2014-05-23 09:15:00              NaN          NaN    45.0  \n",
       "2014-05-23 09:27:00              NaN          NaN     NaN  \n",
       "2014-05-23 09:29:00              NaN          NaN     NaN  \n",
       "2014-05-23 09:37:00              NaN          NaN     NaN  "
      ]
     },
     "execution_count": 56,
     "metadata": {},
     "output_type": "execute_result"
    }
   ],
   "source": [
    "df.seven_dwarfs['2014-05-23 09:14:00'] = 60\n",
    "df['2014-05-23 09:14:00':].head()"
   ]
  },
  {
   "cell_type": "markdown",
   "metadata": {},
   "source": [
    "It's clear that we have missing data due to the different times at which the wait time was recorded across different rides. However, since the time of recording is close, we can interpolate the missing values using the last recorded time. "
   ]
  },
  {
   "cell_type": "code",
   "execution_count": 57,
   "metadata": {},
   "outputs": [
    {
     "data": {
      "image/png": "[encoded data removed]",
      "text/plain": [
       "<Figure size 432x288 with 1 Axes>"
      ]
     },
     "metadata": {
      "needs_background": "light"
     },
     "output_type": "display_data"
    }
   ],
   "source": [
    "##visualize missing data on single date\n",
    "fig, ax = plt.subplots()\n",
    "for column in df:\n",
    "    df['2018-01-01'][column].plot(ax=ax, label=column)\n",
    "ax.legend()\n",
    "plt.show()"
   ]
  },
  {
   "cell_type": "code",
   "execution_count": 58,
   "metadata": {},
   "outputs": [
    {
     "data": {
      "image/png": "[encoded data removed]",
      "text/plain": [
       "<Figure size 720x360 with 1 Axes>"
      ]
     },
     "metadata": {
      "needs_background": "light"
     },
     "output_type": "display_data"
    }
   ],
   "source": [
    "  # Create a boolean mask for missing values\n",
    "missing_values = df.isna()\n",
    "\n",
    "    # Interpolate the missing values (using last recorded time)\n",
    "df = df.interpolate('zero')\n",
    "    # Plot the results, highlighting the interpolated values in black\n",
    "fig, ax = plt.subplots(figsize=(10, 5))\n",
    "df['2018-01-01'].plot(color='k', alpha=.6, ax=ax, legend=False)\n",
    "    \n",
    "    # Plot the interpolated values on top in red\n",
    "df['2018-01-01'][missing_values].plot(ax=ax, color='r', lw=3, legend=False)\n",
    "plt.show()"
   ]
  },
  {
   "cell_type": "code",
   "execution_count": 59,
   "metadata": {},
   "outputs": [
    {
     "data": {
      "text/plain": [
       "toy_story_mania         3851\n",
       "rockin_rollercoaster    3851\n",
       "seven_dwarfs            3815\n",
       "splash_mountain         3815\n",
       "space_earth                0\n",
       "soarin                     0\n",
       "dtype: int64"
      ]
     },
     "execution_count": 59,
     "metadata": {},
     "output_type": "execute_result"
    }
   ],
   "source": [
    "df.isnull().sum()\n"
   ]
  },
  {
   "cell_type": "markdown",
   "metadata": {},
   "source": [
    "There are still NA values because some data has not been updated (i.e. only goes up uptil 2/28)"
   ]
  },
  {
   "cell_type": "code",
   "execution_count": 60,
   "metadata": {},
   "outputs": [],
   "source": [
    "##filter up until last valid entry for TS/RR\n",
    "df=df[:'2019-02-28 20:02:00']"
   ]
  },
  {
   "cell_type": "code",
   "execution_count": 62,
   "metadata": {},
   "outputs": [
    {
     "name": "stdout",
     "output_type": "stream",
     "text": [
      "toy_story_mania         0\n",
      "rockin_rollercoaster    0\n",
      "seven_dwarfs            0\n",
      "splash_mountain         0\n",
      "space_earth             0\n",
      "soarin                  0\n",
      "dtype: int64\n"
     ]
    }
   ],
   "source": [
    "##check again for null values \n",
    "print(df.isnull().sum())"
   ]
  },
  {
   "cell_type": "code",
   "execution_count": 74,
   "metadata": {},
   "outputs": [
    {
     "name": "stdout",
     "output_type": "stream",
     "text": [
      "[0.25423928 0.30225027 0.38745463 0.27289008 0.46955005]\n"
     ]
    }
   ],
   "source": [
    "\n",
    "# Use names to extract training data\n",
    "X = df[['toy_story_mania', 'splash_mountain', 'rockin_rollercoaster','soarin','space_earth']]\n",
    "y = df[['seven_dwarfs']]\n",
    "\n",
    "# Fit and score the model with cross-validation\n",
    "scores = cross_val_score(Ridge(), X, y, cv=5)\n",
    "print(scores)"
   ]
  },
  {
   "cell_type": "code",
   "execution_count": 75,
   "metadata": {},
   "outputs": [
    {
     "name": "stdout",
     "output_type": "stream",
     "text": [
      "0.4695504962001861\n"
     ]
    },
    {
     "name": "stderr",
     "output_type": "stream",
     "text": [
      "/anaconda3/lib/python3.7/site-packages/sklearn/model_selection/_split.py:2179: FutureWarning: From version 0.21, test_size will always complement train_size unless both are specified.\n",
      "  FutureWarning)\n"
     ]
    }
   ],
   "source": [
    "X_train, X_test, y_train, y_test = train_test_split(X, y, \n",
    "                                                    train_size=.8, shuffle=False, random_state=1)\n",
    "\n",
    "# Fit our model and generate predictions\n",
    "model = Ridge()\n",
    "model.fit(X_train, y_train)\n",
    "predictions = model.predict(X_test)\n",
    "score = r2_score(y_test, predictions)\n",
    "print(score)"
   ]
  },
  {
   "cell_type": "code",
   "execution_count": 76,
   "metadata": {},
   "outputs": [
    {
     "data": {
      "text/html": [
       "<div>\n",
       "<style scoped>\n",
       "    .dataframe tbody tr th:only-of-type {\n",
       "        vertical-align: middle;\n",
       "    }\n",
       "\n",
       "    .dataframe tbody tr th {\n",
       "        vertical-align: top;\n",
       "    }\n",
       "\n",
       "    .dataframe thead th {\n",
       "        text-align: right;\n",
       "    }\n",
       "</style>\n",
       "<table border=\"1\" class=\"dataframe\">\n",
       "  <thead>\n",
       "    <tr style=\"text-align: right;\">\n",
       "      <th></th>\n",
       "      <th>toy_story_mania</th>\n",
       "      <th>rockin_rollercoaster</th>\n",
       "      <th>seven_dwarfs</th>\n",
       "      <th>splash_mountain</th>\n",
       "      <th>space_earth</th>\n",
       "      <th>soarin</th>\n",
       "      <th>week_of_year</th>\n",
       "      <th>month_of_year</th>\n",
       "      <th>d_o_w</th>\n",
       "    </tr>\n",
       "    <tr>\n",
       "      <th>datetime</th>\n",
       "      <th></th>\n",
       "      <th></th>\n",
       "      <th></th>\n",
       "      <th></th>\n",
       "      <th></th>\n",
       "      <th></th>\n",
       "      <th></th>\n",
       "      <th></th>\n",
       "      <th></th>\n",
       "    </tr>\n",
       "  </thead>\n",
       "  <tbody>\n",
       "    <tr>\n",
       "      <th>2014-05-23 09:14:00</th>\n",
       "      <td>50.0</td>\n",
       "      <td>30.0</td>\n",
       "      <td>60.0</td>\n",
       "      <td>10.0</td>\n",
       "      <td>5.0</td>\n",
       "      <td>45.0</td>\n",
       "      <td>21</td>\n",
       "      <td>5</td>\n",
       "      <td>4</td>\n",
       "    </tr>\n",
       "    <tr>\n",
       "      <th>2014-05-23 09:15:00</th>\n",
       "      <td>50.0</td>\n",
       "      <td>30.0</td>\n",
       "      <td>60.0</td>\n",
       "      <td>10.0</td>\n",
       "      <td>5.0</td>\n",
       "      <td>45.0</td>\n",
       "      <td>21</td>\n",
       "      <td>5</td>\n",
       "      <td>4</td>\n",
       "    </tr>\n",
       "    <tr>\n",
       "      <th>2014-05-23 09:27:00</th>\n",
       "      <td>50.0</td>\n",
       "      <td>30.0</td>\n",
       "      <td>60.0</td>\n",
       "      <td>10.0</td>\n",
       "      <td>5.0</td>\n",
       "      <td>45.0</td>\n",
       "      <td>21</td>\n",
       "      <td>5</td>\n",
       "      <td>4</td>\n",
       "    </tr>\n",
       "    <tr>\n",
       "      <th>2014-05-23 09:29:00</th>\n",
       "      <td>50.0</td>\n",
       "      <td>30.0</td>\n",
       "      <td>55.0</td>\n",
       "      <td>10.0</td>\n",
       "      <td>5.0</td>\n",
       "      <td>45.0</td>\n",
       "      <td>21</td>\n",
       "      <td>5</td>\n",
       "      <td>4</td>\n",
       "    </tr>\n",
       "    <tr>\n",
       "      <th>2014-05-23 09:37:00</th>\n",
       "      <td>50.0</td>\n",
       "      <td>30.0</td>\n",
       "      <td>55.0</td>\n",
       "      <td>10.0</td>\n",
       "      <td>5.0</td>\n",
       "      <td>45.0</td>\n",
       "      <td>21</td>\n",
       "      <td>5</td>\n",
       "      <td>4</td>\n",
       "    </tr>\n",
       "  </tbody>\n",
       "</table>\n",
       "</div>"
      ],
      "text/plain": [
       "                     toy_story_mania  rockin_rollercoaster  seven_dwarfs  \\\n",
       "datetime                                                                   \n",
       "2014-05-23 09:14:00             50.0                  30.0          60.0   \n",
       "2014-05-23 09:15:00             50.0                  30.0          60.0   \n",
       "2014-05-23 09:27:00             50.0                  30.0          60.0   \n",
       "2014-05-23 09:29:00             50.0                  30.0          55.0   \n",
       "2014-05-23 09:37:00             50.0                  30.0          55.0   \n",
       "\n",
       "                     splash_mountain  space_earth  soarin  week_of_year  \\\n",
       "datetime                                                                  \n",
       "2014-05-23 09:14:00             10.0          5.0    45.0            21   \n",
       "2014-05-23 09:15:00             10.0          5.0    45.0            21   \n",
       "2014-05-23 09:27:00             10.0          5.0    45.0            21   \n",
       "2014-05-23 09:29:00             10.0          5.0    45.0            21   \n",
       "2014-05-23 09:37:00             10.0          5.0    45.0            21   \n",
       "\n",
       "                     month_of_year  d_o_w  \n",
       "datetime                                   \n",
       "2014-05-23 09:14:00              5      4  \n",
       "2014-05-23 09:15:00              5      4  \n",
       "2014-05-23 09:27:00              5      4  \n",
       "2014-05-23 09:29:00              5      4  \n",
       "2014-05-23 09:37:00              5      4  "
      ]
     },
     "execution_count": 76,
     "metadata": {},
     "output_type": "execute_result"
    }
   ],
   "source": [
    "##feature engineering (within time series)\n",
    "df2 = pd.DataFrame(data=df)\n",
    "df2['week_of_year'] = df.index.weekofyear\n",
    "df2['month_of_year'] = df.index.month\n",
    "df2['d_o_w'] = df.index.dayofweek\n",
    "df2.head()"
   ]
  },
  {
   "cell_type": "code",
   "execution_count": 78,
   "metadata": {},
   "outputs": [
    {
     "name": "stdout",
     "output_type": "stream",
     "text": [
      "[0.3314718  0.14340781 0.38111273 0.35898594 0.27586277 0.49614891]\n"
     ]
    }
   ],
   "source": [
    "X = df2[['toy_story_mania', 'splash_mountain', 'rockin_rollercoaster','soarin','space_earth','week_of_year','month_of_year','d_o_w']]\n",
    "y = df2[['seven_dwarfs']]\n",
    "scores = cross_val_score(Ridge(), X, y, cv=6)\n",
    "print(scores)"
   ]
  },
  {
   "cell_type": "code",
   "execution_count": 79,
   "metadata": {},
   "outputs": [
    {
     "name": "stdout",
     "output_type": "stream",
     "text": [
      "0.4749205622567776\n"
     ]
    },
    {
     "name": "stderr",
     "output_type": "stream",
     "text": [
      "/anaconda3/lib/python3.7/site-packages/sklearn/model_selection/_split.py:2179: FutureWarning: From version 0.21, test_size will always complement train_size unless both are specified.\n",
      "  FutureWarning)\n"
     ]
    }
   ],
   "source": [
    "X_train, X_test, y_train, y_test = train_test_split(X, y, \n",
    "                                                    train_size=.8, shuffle=False, random_state=1)\n",
    "\n",
    "# Fit our model and generate predictions\n",
    "model = Ridge()\n",
    "model.fit(X_train, y_train)\n",
    "predictions = model.predict(X_test)\n",
    "score = r2_score(y_test, predictions)\n",
    "print(score)"
   ]
  },
  {
   "cell_type": "code",
   "execution_count": 80,
   "metadata": {},
   "outputs": [
    {
     "data": {
      "text/html": [
       "<div>\n",
       "<style scoped>\n",
       "    .dataframe tbody tr th:only-of-type {\n",
       "        vertical-align: middle;\n",
       "    }\n",
       "\n",
       "    .dataframe tbody tr th {\n",
       "        vertical-align: top;\n",
       "    }\n",
       "\n",
       "    .dataframe thead th {\n",
       "        text-align: right;\n",
       "    }\n",
       "</style>\n",
       "<table border=\"1\" class=\"dataframe\">\n",
       "  <thead>\n",
       "    <tr style=\"text-align: right;\">\n",
       "      <th></th>\n",
       "      <th>toy_story_mania</th>\n",
       "      <th>rockin_rollercoaster</th>\n",
       "      <th>seven_dwarfs</th>\n",
       "      <th>splash_mountain</th>\n",
       "      <th>space_earth</th>\n",
       "      <th>soarin</th>\n",
       "    </tr>\n",
       "  </thead>\n",
       "  <tbody>\n",
       "    <tr>\n",
       "      <th>toy_story_mania</th>\n",
       "      <td>1.000000</td>\n",
       "      <td>0.456936</td>\n",
       "      <td>0.391628</td>\n",
       "      <td>0.328605</td>\n",
       "      <td>0.366780</td>\n",
       "      <td>0.537104</td>\n",
       "    </tr>\n",
       "    <tr>\n",
       "      <th>rockin_rollercoaster</th>\n",
       "      <td>0.456936</td>\n",
       "      <td>1.000000</td>\n",
       "      <td>0.509820</td>\n",
       "      <td>0.443913</td>\n",
       "      <td>0.496562</td>\n",
       "      <td>0.431751</td>\n",
       "    </tr>\n",
       "    <tr>\n",
       "      <th>seven_dwarfs</th>\n",
       "      <td>0.391628</td>\n",
       "      <td>0.509820</td>\n",
       "      <td>1.000000</td>\n",
       "      <td>0.556948</td>\n",
       "      <td>0.430801</td>\n",
       "      <td>0.351351</td>\n",
       "    </tr>\n",
       "    <tr>\n",
       "      <th>splash_mountain</th>\n",
       "      <td>0.328605</td>\n",
       "      <td>0.443913</td>\n",
       "      <td>0.556948</td>\n",
       "      <td>1.000000</td>\n",
       "      <td>0.371648</td>\n",
       "      <td>0.347028</td>\n",
       "    </tr>\n",
       "    <tr>\n",
       "      <th>space_earth</th>\n",
       "      <td>0.366780</td>\n",
       "      <td>0.496562</td>\n",
       "      <td>0.430801</td>\n",
       "      <td>0.371648</td>\n",
       "      <td>1.000000</td>\n",
       "      <td>0.484609</td>\n",
       "    </tr>\n",
       "    <tr>\n",
       "      <th>soarin</th>\n",
       "      <td>0.537104</td>\n",
       "      <td>0.431751</td>\n",
       "      <td>0.351351</td>\n",
       "      <td>0.347028</td>\n",
       "      <td>0.484609</td>\n",
       "      <td>1.000000</td>\n",
       "    </tr>\n",
       "  </tbody>\n",
       "</table>\n",
       "</div>"
      ],
      "text/plain": [
       "                      toy_story_mania  rockin_rollercoaster  seven_dwarfs  \\\n",
       "toy_story_mania              1.000000              0.456936      0.391628   \n",
       "rockin_rollercoaster         0.456936              1.000000      0.509820   \n",
       "seven_dwarfs                 0.391628              0.509820      1.000000   \n",
       "splash_mountain              0.328605              0.443913      0.556948   \n",
       "space_earth                  0.366780              0.496562      0.430801   \n",
       "soarin                       0.537104              0.431751      0.351351   \n",
       "\n",
       "                      splash_mountain  space_earth    soarin  \n",
       "toy_story_mania              0.328605     0.366780  0.537104  \n",
       "rockin_rollercoaster         0.443913     0.496562  0.431751  \n",
       "seven_dwarfs                 0.556948     0.430801  0.351351  \n",
       "splash_mountain              1.000000     0.371648  0.347028  \n",
       "space_earth                  0.371648     1.000000  0.484609  \n",
       "soarin                       0.347028     0.484609  1.000000  "
      ]
     },
     "execution_count": 80,
     "metadata": {},
     "output_type": "execute_result"
    }
   ],
   "source": [
    "df.drop(['week_of_year','d_o_w','month_of_year'],inplace=True,axis=1)\n",
    "df.corr()"
   ]
  },
  {
   "cell_type": "code",
   "execution_count": 82,
   "metadata": {},
   "outputs": [],
   "source": [
    "##for transmission to R\n",
    "df.reset_index(inplace=True)\n",
    "export_csv = df.to_csv (r'C:\\Users\\mikaylaedwards\\Desktop\\export_dataframe.csv', index = None, header=True) \n"
   ]
  },
  {
   "cell_type": "code",
   "execution_count": null,
   "metadata": {},
   "outputs": [],
   "source": []
  },
  {
   "cell_type": "code",
   "execution_count": null,
   "metadata": {},
   "outputs": [],
   "source": []
  },
  {
   "cell_type": "code",
   "execution_count": null,
   "metadata": {},
   "outputs": [],
   "source": []
  },
  {
   "cell_type": "code",
   "execution_count": null,
   "metadata": {},
   "outputs": [],
   "source": []
  },
  {
   "cell_type": "code",
   "execution_count": null,
   "metadata": {},
   "outputs": [],
   "source": []
  },
  {
   "cell_type": "code",
   "execution_count": null,
   "metadata": {},
   "outputs": [],
   "source": []
  }
 ],
 "metadata": {
  "kernelspec": {
   "display_name": "Python 3",
   "language": "python",
   "name": "python3"
  },
  "language_info": {
   "codemirror_mode": {
    "name": "ipython",
    "version": 3
   },
   "file_extension": ".py",
   "mimetype": "text/x-python",
   "name": "python",
   "nbconvert_exporter": "python",
   "pygments_lexer": "ipython3",
   "version": "3.7.1"
  }
 },
 "nbformat": 4,
 "nbformat_minor": 2
}
